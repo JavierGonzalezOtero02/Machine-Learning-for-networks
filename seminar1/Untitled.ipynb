{
 "cells": [
  {
   "cell_type": "markdown",
   "id": "4ac3eb8a-3bbd-4c8e-8232-69ebe41d045c",
   "metadata": {},
   "source": [
    "# Seminar 1 - Linear Regression"
   ]
  },
  {
   "cell_type": "markdown",
   "id": "3a9f792e-b67f-4312-a864-d6fa71460acb",
   "metadata": {},
   "source": [
    "Javier González Otero - 243078\n",
    "\n",
    "Jordi Guillén González - 253027\n",
    "\n",
    "David Sánchez Maldonado - 253798"
   ]
  },
  {
   "cell_type": "markdown",
   "id": "c596381c-de94-4cba-9e7c-6bc6ec7e6f8e",
   "metadata": {},
   "source": [
    "## Part 1 - Data Preparation & Analysis"
   ]
  },
  {
   "cell_type": "markdown",
   "id": "1119a918-efd1-4f7a-92c9-7e1c5a97a10e",
   "metadata": {},
   "source": [
    "### Data preparation"
   ]
  },
  {
   "cell_type": "code",
   "execution_count": null,
   "id": "fbe68498-e2f6-4112-92db-fcdcd358e294",
   "metadata": {},
   "outputs": [],
   "source": []
  }
 ],
 "metadata": {
  "kernelspec": {
   "display_name": "Python 3 (ipykernel)",
   "language": "python",
   "name": "python3"
  },
  "language_info": {
   "codemirror_mode": {
    "name": "ipython",
    "version": 3
   },
   "file_extension": ".py",
   "mimetype": "text/x-python",
   "name": "python",
   "nbconvert_exporter": "python",
   "pygments_lexer": "ipython3",
   "version": "3.12.9"
  }
 },
 "nbformat": 4,
 "nbformat_minor": 5
}
