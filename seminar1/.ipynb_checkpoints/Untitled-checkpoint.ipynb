{
 "cells": [
  {
   "cell_type": "markdown",
   "id": "4ac3eb8a-3bbd-4c8e-8232-69ebe41d045c",
   "metadata": {},
   "source": [
    "# Seminar 1 - Linear Regression"
   ]
  },
  {
   "cell_type": "markdown",
   "id": "3a9f792e-b67f-4312-a864-d6fa71460acb",
   "metadata": {},
   "source": [
    "Javier González Otero - 243078\n",
    "\n",
    "Jordi Guillén González - 253027\n",
    "\n",
    "David Sánchez Maldonado - 253798"
   ]
  },
  {
   "cell_type": "markdown",
   "id": "c596381c-de94-4cba-9e7c-6bc6ec7e6f8e",
   "metadata": {},
   "source": [
    "## Part 1 - Data Preparation & Analysis"
   ]
  },
  {
   "cell_type": "markdown",
   "id": "1119a918-efd1-4f7a-92c9-7e1c5a97a10e",
   "metadata": {},
   "source": [
    "### Data preparation"
   ]
  },
  {
   "cell_type": "code",
   "execution_count": 1,
   "id": "fbe68498-e2f6-4112-92db-fcdcd358e294",
   "metadata": {},
   "outputs": [
    {
     "name": "stdout",
     "output_type": "stream",
     "text": [
      "   Hola           1     2     3       4      5      6        7          8  \\\n",
      "0  40.0  60000000.0  22.0  39.0   858.0   63.0   80.0   4000.0 -42.928330   \n",
      "1  35.0  52500000.0  20.0  33.0   660.0   31.0   40.0  10000.0 -47.815800   \n",
      "2  16.0  12000000.0  34.0  14.0   476.0  255.0   40.0   4000.0 -46.138494   \n",
      "3  37.0  18500000.0  35.0   7.0   245.0   31.0   80.0  10000.0 -42.708813   \n",
      "4  18.0   4500000.0  36.0  35.0  1260.0  127.0  160.0   8000.0 -45.492991   \n",
      "\n",
      "           9         10        11            12            13        14  \\\n",
      "0 -63.163012 -74.965338  0.415189  7.208644e+06  1.229466e+07  1.084041   \n",
      "1 -63.298410 -72.847989  0.485311  1.545116e+07  1.275042e+07  1.111263   \n",
      "2 -60.076333 -70.044800  0.099413  6.743660e+06  2.251690e+06  0.880036   \n",
      "3 -60.141393 -72.029643  0.493704  1.675025e+07  1.211374e+07  1.126341   \n",
      "4 -63.780783 -76.225550  0.011664  4.500000e+06  1.446000e-03  0.276770   \n",
      "\n",
      "         15  \n",
      "0  0.875490  \n",
      "1  0.873785  \n",
      "2  0.849701  \n",
      "3  0.860103  \n",
      "4  0.275687  \n"
     ]
    }
   ],
   "source": [
    "# Seminar 1\n",
    "import pandas as pd\n",
    "\n",
    "dataset = pd.read_csv('data/dataset_Seminar1.txt',sep=' ',header=None)\n",
    "dataset = dataset.rename(columns={0:'Hola'})\n",
    "print(dataset.head())"
   ]
  }
 ],
 "metadata": {
  "kernelspec": {
   "display_name": "Python 3 (ipykernel)",
   "language": "python",
   "name": "python3"
  },
  "language_info": {
   "codemirror_mode": {
    "name": "ipython",
    "version": 3
   },
   "file_extension": ".py",
   "mimetype": "text/x-python",
   "name": "python",
   "nbconvert_exporter": "python",
   "pygments_lexer": "ipython3",
   "version": "3.12.9"
  }
 },
 "nbformat": 4,
 "nbformat_minor": 5
}
